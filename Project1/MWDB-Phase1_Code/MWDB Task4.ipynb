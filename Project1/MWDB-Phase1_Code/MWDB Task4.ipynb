{
 "cells": [
  {
   "cell_type": "code",
   "execution_count": 48,
   "metadata": {},
   "outputs": [],
   "source": [
    "# importing some libraries \n",
    "import pandas as pd\n",
    "import numpy as np"
   ]
  },
  {
   "cell_type": "code",
   "execution_count": 49,
   "metadata": {},
   "outputs": [],
   "source": [
    "# Import the the input query file\n",
    "# importing the csv file\n",
    "# make changes according to \n",
    "input=pd.read_csv('C:/Users/Vaibhav Kalakota/PycharmProjects/MWDB-Phase1/Task_Input.csv',encoding = \"ISO-8859-1\",names = [\"Task\", \"Task-ID\", \"TF_DF_TFIDF\", \"K\"])"
   ]
  },
  {
   "cell_type": "code",
   "execution_count": 50,
   "metadata": {},
   "outputs": [
    {
     "data": {
      "text/plain": [
       "'Loc'"
      ]
     },
     "execution_count": 50,
     "metadata": {},
     "output_type": "execute_result"
    }
   ],
   "source": [
    "# inputs for next blocks\n",
    "input.head(5)\n",
    "for index, row in input.iterrows():\n",
    "    Task = row['Task']\n",
    "    Task_ID=row['Task-ID']\n",
    "    TF_DF_TFIDF=row['TF_DF_TFIDF']\n",
    "    K=row['K']    \n",
    "Task    "
   ]
  },
  {
   "cell_type": "code",
   "execution_count": 56,
   "metadata": {},
   "outputs": [],
   "source": [
    "# #Preprocessing the Data\n",
    "import glob\n",
    "import pandas as pd\n",
    "import xml.etree.ElementTree as ET\n",
    "cde ='C:/Users/Vaibhav Kalakota/PycharmProjects/MWDB-Phase1/img/*'+TF_DF_TFIDF+'.csv'\n",
    "op = \"\"\n",
    "z=0\n",
    "doc = ET.parse(\"C:/Users/Vaibhav Kalakota/PycharmProjects/MWDB-Phase1/devset_topics.xml\")\n",
    "\n",
    "topicElem = doc.getroot()\n",
    "locIdNameDict={}\n",
    "for topic in topicElem:\n",
    "    locIdNameDict[topic[0].text]= topic[1].text.replace(\"_\",\" \")\n",
    "# for f in glob.glob(cde):\n",
    "#     data=pd.read_csv(f,encoding = \"ISO-8859-1\")\n",
    "#     dataMean = data.mean()\n",
    "#     z=z+1\n",
    "#     op +=locIdNameDict[str(z)]+','\n",
    "#     for i in dataMean:\n",
    "#         op +=str(i)+\",\"\n",
    "#     op = op[:-1]\n",
    "#     op +=\"\\n\"\n",
    "outputFileLoc=\"C:/Users/Vaibhav Kalakota/PycharmProjects/MWDB-Phase1/Task4_entity_id_term_metrics_loc.csv\"    \n",
    "# with open(outputFileLoc, 'w', encoding=\"utf8\") as f:\n",
    "#     f.write(op)\n",
    "# cde    "
   ]
  },
  {
   "cell_type": "code",
   "execution_count": 52,
   "metadata": {},
   "outputs": [],
   "source": [
    "# importing the csv file\n",
    "# make changes according to \n",
    "data=pd.read_csv(outputFileLoc,encoding = \"ISO-8859-1\")\n",
    "data\n",
    "[rows,columns]=data.shape"
   ]
  },
  {
   "cell_type": "code",
   "execution_count": 53,
   "metadata": {},
   "outputs": [
    {
     "data": {
      "text/plain": [
       "array([[ 5.05598914e+09,  2.51238119e-01,  3.10628040e-01,\n",
       "         2.22275632e-03,  2.39145417e-01,  1.75060321e-01,\n",
       "         9.32531835e-04,  2.47019344e+00,  6.90616442e-01,\n",
       "        -1.74290470e-01]])"
      ]
     },
     "execution_count": 53,
     "metadata": {},
     "output_type": "execute_result"
    }
   ],
   "source": [
    "# Calculating the euclidian distances between the given User and Other Users\n",
    "given = data.iloc[0:1,1:columns].values\n",
    "outputArray=[]\n",
    "dist={}\n",
    "# print(np.linalg.norm(given-given2))\n",
    "for i in range(0,rows):\n",
    "    new=data.iloc[i:i+1,1:columns].values\n",
    "#     case = {i: (np.linalg.norm(given-new))}\n",
    "#     outputArray.append(case)\n",
    "    dist[i] = (np.linalg.norm(given-new))\n",
    "given    "
   ]
  },
  {
   "cell_type": "code",
   "execution_count": 54,
   "metadata": {},
   "outputs": [],
   "source": [
    "#Sorting a Dict \n",
    "import operator\n",
    "sorted_d = sorted(dist.items(), key=operator.itemgetter(1))"
   ]
  },
  {
   "cell_type": "code",
   "execution_count": 55,
   "metadata": {},
   "outputs": [
    {
     "data": {
      "text/plain": [
       "[(0, 0.0),\n",
       " (10, 47637265.51673322),\n",
       " (9, 189988364.1912756),\n",
       " (22, 237505002.9680357),\n",
       " (16, 303671736.91798115),\n",
       " (27, 314574557.77852345)]"
      ]
     },
     "execution_count": 55,
     "metadata": {},
     "output_type": "execute_result"
    }
   ],
   "source": [
    "sorted_d[0:K+1]"
   ]
  },
  {
   "cell_type": "code",
   "execution_count": 63,
   "metadata": {},
   "outputs": [
    {
     "name": "stdout",
     "output_type": "stream",
     "text": [
      "angel of the north\n",
      "albert memorial\n",
      "agra fort\n",
      "casa rosada\n",
      "aztec ruins\n",
      "civic center san francisco\n"
     ]
    }
   ],
   "source": [
    "# Users output\n",
    "for i in range(0,K+1):\n",
    "#     print(locIdNameDict[sorted_d[i:i+1][0][0]:sorted_d[i:i+1][0][0]+1])   \n",
    "    print(locIdNameDict[str(sorted_d[i:i+1][0][0]+1)])"
   ]
  }
 ],
 "metadata": {
  "kernelspec": {
   "display_name": "Python 3",
   "language": "python",
   "name": "python3"
  },
  "language_info": {
   "codemirror_mode": {
    "name": "ipython",
    "version": 3
   },
   "file_extension": ".py",
   "mimetype": "text/x-python",
   "name": "python",
   "nbconvert_exporter": "python",
   "pygments_lexer": "ipython3",
   "version": "3.6.4"
  }
 },
 "nbformat": 4,
 "nbformat_minor": 2
}
